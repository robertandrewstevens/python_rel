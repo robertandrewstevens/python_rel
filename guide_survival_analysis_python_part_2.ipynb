{
 "cells": [
  {
   "cell_type": "markdown",
   "metadata": {
    "id": "BB-s7l4I-ph5"
   },
   "source": [
    "A Complete Guide To Survival Analysis In Python, part 2"
   ]
  },
  {
   "cell_type": "markdown",
   "metadata": {
    "id": "YRZ6gvws-z6I"
   },
   "source": [
    "https://www.kdnuggets.com/2020/07/guide-survival-analysis-python-part-2.html\n",
    "\n",
    "Tags: Python, Statistics, Survival Analysis\n",
    "\n",
    "*Continuing with the second of this three-part series covering a step-by-step review of statistical survival analysis, we look at a detailed example implementing the Kaplan-Meier fitter theory as well as the Nelson-Aalen fitter theory, both with examples and shared code.*\n",
    "\n",
    "By Pratik Shukla, Aspiring machine learning engineer.\n",
    "\n",
    "In the first article of this three-part series, we saw the basics of the Kaplan-Meier Estimator. Now, it’s time to implement the theory we discussed in the first part.\n",
    "\n",
    "## Example 1: Kaplan-Meier Estimator (Without any groups)\n",
    "\n",
    "Let’s code:\n",
    "\n",
    "### 1. Import required libraries:"
   ]
  },
  {
   "cell_type": "code",
   "execution_count": 1,
   "metadata": {
    "colab": {
     "base_uri": "https://localhost:8080/",
     "height": 462
    },
    "id": "uQkXbQn3-nC7",
    "outputId": "091f590d-3b8b-46b0-d3e2-60d0c5cfa613"
   },
   "outputs": [
    {
     "name": "stdout",
     "output_type": "stream",
     "text": [
      "Collecting lifelines\n",
      "\u001b[?25l  Downloading https://files.pythonhosted.org/packages/e0/de/6d4f429e2cf3c14ebdd51a846abbc77fb5f915b3f4bf0ad9bf3ca3317a53/lifelines-0.25.6-py3-none-any.whl (347kB)\n",
      "\r",
      "\u001b[K     |█                               | 10kB 18.4MB/s eta 0:00:01\r",
      "\u001b[K     |█▉                              | 20kB 4.2MB/s eta 0:00:01\r",
      "\u001b[K     |██▉                             | 30kB 5.4MB/s eta 0:00:01\r",
      "\u001b[K     |███▊                            | 40kB 5.7MB/s eta 0:00:01\r",
      "\u001b[K     |████▊                           | 51kB 5.8MB/s eta 0:00:01\r",
      "\u001b[K     |█████▋                          | 61kB 6.3MB/s eta 0:00:01\r",
      "\u001b[K     |██████▋                         | 71kB 6.5MB/s eta 0:00:01\r",
      "\u001b[K     |███████▌                        | 81kB 6.6MB/s eta 0:00:01\r",
      "\u001b[K     |████████▌                       | 92kB 6.5MB/s eta 0:00:01\r",
      "\u001b[K     |█████████▍                      | 102kB 6.7MB/s eta 0:00:01\r",
      "\u001b[K     |██████████▍                     | 112kB 6.7MB/s eta 0:00:01\r",
      "\u001b[K     |███████████▎                    | 122kB 6.7MB/s eta 0:00:01\r",
      "\u001b[K     |████████████▎                   | 133kB 6.7MB/s eta 0:00:01\r",
      "\u001b[K     |█████████████▏                  | 143kB 6.7MB/s eta 0:00:01\r",
      "\u001b[K     |██████████████▏                 | 153kB 6.7MB/s eta 0:00:01\r",
      "\u001b[K     |███████████████                 | 163kB 6.7MB/s eta 0:00:01\r",
      "\u001b[K     |████████████████                | 174kB 6.7MB/s eta 0:00:01\r",
      "\u001b[K     |█████████████████               | 184kB 6.7MB/s eta 0:00:01\r",
      "\u001b[K     |██████████████████              | 194kB 6.7MB/s eta 0:00:01\r",
      "\u001b[K     |██████████████████▉             | 204kB 6.7MB/s eta 0:00:01\r",
      "\u001b[K     |███████████████████▉            | 215kB 6.7MB/s eta 0:00:01\r",
      "\u001b[K     |████████████████████▊           | 225kB 6.7MB/s eta 0:00:01\r",
      "\u001b[K     |█████████████████████▊          | 235kB 6.7MB/s eta 0:00:01\r",
      "\u001b[K     |██████████████████████▋         | 245kB 6.7MB/s eta 0:00:01\r",
      "\u001b[K     |███████████████████████▋        | 256kB 6.7MB/s eta 0:00:01\r",
      "\u001b[K     |████████████████████████▌       | 266kB 6.7MB/s eta 0:00:01\r",
      "\u001b[K     |█████████████████████████▌      | 276kB 6.7MB/s eta 0:00:01\r",
      "\u001b[K     |██████████████████████████▍     | 286kB 6.7MB/s eta 0:00:01\r",
      "\u001b[K     |███████████████████████████▍    | 296kB 6.7MB/s eta 0:00:01\r",
      "\u001b[K     |████████████████████████████▎   | 307kB 6.7MB/s eta 0:00:01\r",
      "\u001b[K     |█████████████████████████████▎  | 317kB 6.7MB/s eta 0:00:01\r",
      "\u001b[K     |██████████████████████████████▏ | 327kB 6.7MB/s eta 0:00:01\r",
      "\u001b[K     |███████████████████████████████▏| 337kB 6.7MB/s eta 0:00:01\r",
      "\u001b[K     |████████████████████████████████| 348kB 6.7MB/s \n",
      "\u001b[?25hRequirement already satisfied: patsy>=0.5.0 in /usr/local/lib/python3.6/dist-packages (from lifelines) (0.5.1)\n",
      "Requirement already satisfied: matplotlib>=3.0 in /usr/local/lib/python3.6/dist-packages (from lifelines) (3.2.2)\n",
      "Requirement already satisfied: scipy>=1.2.0 in /usr/local/lib/python3.6/dist-packages (from lifelines) (1.4.1)\n",
      "Collecting autograd-gamma>=0.3\n",
      "  Downloading https://files.pythonhosted.org/packages/85/ae/7f2031ea76140444b2453fa139041e5afd4a09fc5300cfefeb1103291f80/autograd-gamma-0.5.0.tar.gz\n",
      "Requirement already satisfied: numpy>=1.14.0 in /usr/local/lib/python3.6/dist-packages (from lifelines) (1.18.5)\n",
      "Requirement already satisfied: pandas>=0.23.0 in /usr/local/lib/python3.6/dist-packages (from lifelines) (1.1.3)\n",
      "Requirement already satisfied: autograd>=1.3 in /usr/local/lib/python3.6/dist-packages (from lifelines) (1.3)\n",
      "Requirement already satisfied: six in /usr/local/lib/python3.6/dist-packages (from patsy>=0.5.0->lifelines) (1.15.0)\n",
      "Requirement already satisfied: pyparsing!=2.0.4,!=2.1.2,!=2.1.6,>=2.0.1 in /usr/local/lib/python3.6/dist-packages (from matplotlib>=3.0->lifelines) (2.4.7)\n",
      "Requirement already satisfied: python-dateutil>=2.1 in /usr/local/lib/python3.6/dist-packages (from matplotlib>=3.0->lifelines) (2.8.1)\n",
      "Requirement already satisfied: kiwisolver>=1.0.1 in /usr/local/lib/python3.6/dist-packages (from matplotlib>=3.0->lifelines) (1.2.0)\n",
      "Requirement already satisfied: cycler>=0.10 in /usr/local/lib/python3.6/dist-packages (from matplotlib>=3.0->lifelines) (0.10.0)\n",
      "Requirement already satisfied: pytz>=2017.2 in /usr/local/lib/python3.6/dist-packages (from pandas>=0.23.0->lifelines) (2018.9)\n",
      "Requirement already satisfied: future>=0.15.2 in /usr/local/lib/python3.6/dist-packages (from autograd>=1.3->lifelines) (0.16.0)\n",
      "Building wheels for collected packages: autograd-gamma\n",
      "  Building wheel for autograd-gamma (setup.py) ... \u001b[?25l\u001b[?25hdone\n",
      "  Created wheel for autograd-gamma: filename=autograd_gamma-0.5.0-cp36-none-any.whl size=4035 sha256=5080cba6a9e6bd47cb9e7d6a991ee9a08d4fa86b7114e9be5639237bf35055e0\n",
      "  Stored in directory: /root/.cache/pip/wheels/dc/68/dc/91321c55fba449755524481854f5be70d41912b8f886f908bb\n",
      "Successfully built autograd-gamma\n",
      "Installing collected packages: autograd-gamma, lifelines\n",
      "Successfully installed autograd-gamma-0.5.0 lifelines-0.25.6\n"
     ]
    }
   ],
   "source": [
    "!pip install lifelines"
   ]
  },
  {
   "cell_type": "code",
   "execution_count": 2,
   "metadata": {
    "id": "fkiwEg5SJsCL"
   },
   "outputs": [],
   "source": [
    "# Import required libraries :\n",
    "import pandas as pd\n",
    "import numpy as np\n",
    "import matplotlib.pyplot as plt\n",
    "from lifelines import KaplanMeierFitter"
   ]
  },
  {
   "cell_type": "markdown",
   "metadata": {
    "id": "Q8b3QpS0_Cb5"
   },
   "source": [
    "### 2. Read the dataset:"
   ]
  },
  {
   "cell_type": "code",
   "execution_count": 4,
   "metadata": {
    "colab": {
     "base_uri": "https://localhost:8080/",
     "height": 72,
     "resources": {
      "http://localhost:8080/nbextensions/google.colab/files.js": {
       "data": "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",
       "headers": [
        [
         "content-type",
         "application/javascript"
        ]
       ],
       "ok": true,
       "status": 200,
       "status_text": ""
      }
     }
    },
    "id": "18hOQUWUK7BU",
    "outputId": "c283f822-6909-43d9-abbe-552e4a01e932"
   },
   "outputs": [
    {
     "data": {
      "text/html": [
       "\n",
       "     <input type=\"file\" id=\"files-60d31de5-f719-4d41-9824-26fcfb572ec9\" name=\"files[]\" multiple disabled\n",
       "        style=\"border:none\" />\n",
       "     <output id=\"result-60d31de5-f719-4d41-9824-26fcfb572ec9\">\n",
       "      Upload widget is only available when the cell has been executed in the\n",
       "      current browser session. Please rerun this cell to enable.\n",
       "      </output>\n",
       "      <script src=\"/nbextensions/google.colab/files.js\"></script> "
      ],
      "text/plain": [
       "<IPython.core.display.HTML object>"
      ]
     },
     "metadata": {
      "tags": []
     },
     "output_type": "display_data"
    },
    {
     "name": "stdout",
     "output_type": "stream",
     "text": [
      "Saving cancer.csv to cancer.csv\n"
     ]
    }
   ],
   "source": [
    "from google.colab import files\n",
    "uploaded = files.upload()"
   ]
  },
  {
   "cell_type": "code",
   "execution_count": 5,
   "metadata": {
    "id": "CbVH39teLMy8"
   },
   "outputs": [],
   "source": [
    "import io\n",
    "data = pd.read_csv(io.BytesIO(uploaded['cancer.csv']))"
   ]
  },
  {
   "cell_type": "code",
   "execution_count": 8,
   "metadata": {
    "colab": {
     "base_uri": "https://localhost:8080/",
     "height": 153
    },
    "id": "5Pp2WfN5J5wT",
    "outputId": "c8b2dbce-e4da-41ee-a251-42e732716291"
   },
   "outputs": [
    {
     "name": "stdout",
     "output_type": "stream",
     "text": [
      "   Unnamed: 0  id             center      random  ... tstart enum  tstop  status\n",
      "0           1   1  Scripps Institute  1989-06-07  ...      0    1    219       1\n",
      "1           2   1  Scripps Institute  1989-06-07  ...    219    2    373       1\n",
      "2           3   1  Scripps Institute  1989-06-07  ...    373    3    414       0\n",
      "3           4   2  Scripps Institute  1989-06-07  ...      0    1      8       1\n",
      "4           5   2  Scripps Institute  1989-06-07  ...      8    2     26       1\n",
      "\n",
      "[5 rows x 17 columns]\n"
     ]
    }
   ],
   "source": [
    "# Read the dataset :\n",
    "#data = pd.read_csv(\"lung.csv\")\n",
    "print (data.head())"
   ]
  },
  {
   "cell_type": "markdown",
   "metadata": {
    "id": "kKwuDzvU_ST7"
   },
   "source": [
    "### 3. Columns of our dataset:"
   ]
  },
  {
   "cell_type": "code",
   "execution_count": 13,
   "metadata": {
    "colab": {
     "base_uri": "https://localhost:8080/",
     "height": 68
    },
    "id": "vG9F5Ei9LhS0",
    "outputId": "6ac1b61f-68cc-4fda-f070-5150793cfc7c"
   },
   "outputs": [
    {
     "data": {
      "text/plain": [
       "Index(['Unnamed: 0', 'inst', 'time', 'status', 'age', 'sex', 'ph.ecog',\n",
       "       'ph.karno', 'pat.karno', 'meal.cal', 'wt.loss'],\n",
       "      dtype='object')"
      ]
     },
     "execution_count": 13,
     "metadata": {
      "tags": []
     },
     "output_type": "execute_result"
    }
   ],
   "source": [
    "data.columns"
   ]
  },
  {
   "cell_type": "markdown",
   "metadata": {
    "id": "1dr2jUMM_ZMF"
   },
   "source": [
    "### 4. Additional info about dataset:\n",
    "\n",
    "It gives us information about the data types and the number of rows in each column that has null values. It’s very important for us to remove the rows with a null value for some of the methods in survival analysis."
   ]
  },
  {
   "cell_type": "code",
   "execution_count": 14,
   "metadata": {
    "colab": {
     "base_uri": "https://localhost:8080/",
     "height": 323
    },
    "id": "YLqqI8UsMmaa",
    "outputId": "d4b158c6-76d7-4a1f-b8e2-c0bd0dba6c94"
   },
   "outputs": [
    {
     "name": "stdout",
     "output_type": "stream",
     "text": [
      "<class 'pandas.core.frame.DataFrame'>\n",
      "RangeIndex: 228 entries, 0 to 227\n",
      "Data columns (total 11 columns):\n",
      " #   Column      Non-Null Count  Dtype  \n",
      "---  ------      --------------  -----  \n",
      " 0   Unnamed: 0  228 non-null    int64  \n",
      " 1   inst        227 non-null    float64\n",
      " 2   time        228 non-null    int64  \n",
      " 3   status      228 non-null    int64  \n",
      " 4   age         228 non-null    int64  \n",
      " 5   sex         228 non-null    int64  \n",
      " 6   ph.ecog     227 non-null    float64\n",
      " 7   ph.karno    227 non-null    float64\n",
      " 8   pat.karno   225 non-null    float64\n",
      " 9   meal.cal    181 non-null    float64\n",
      " 10  wt.loss     214 non-null    float64\n",
      "dtypes: float64(6), int64(5)\n",
      "memory usage: 19.7 KB\n"
     ]
    }
   ],
   "source": [
    "data.info()"
   ]
  },
  {
   "cell_type": "markdown",
   "metadata": {
    "id": "9ezhM-mI_wsc"
   },
   "source": [
    "5. Statistical info about dataset:\n",
    "It gives us some statistical information like the total number of rows, mean, standard deviation, minimum value, 25th percentile, 50th percentile, 75th percentile, and maximum value for each column in our dataset."
   ]
  },
  {
   "cell_type": "code",
   "execution_count": 6,
   "metadata": {
    "colab": {
     "base_uri": "https://localhost:8080/",
     "height": 334
    },
    "id": "yHe_c_1fMvm1",
    "outputId": "3c9b3bb4-61ec-4f4e-d879-013766436697"
   },
   "outputs": [
    {
     "data": {
      "text/html": [
       "<div>\n",
       "<style scoped>\n",
       "    .dataframe tbody tr th:only-of-type {\n",
       "        vertical-align: middle;\n",
       "    }\n",
       "\n",
       "    .dataframe tbody tr th {\n",
       "        vertical-align: top;\n",
       "    }\n",
       "\n",
       "    .dataframe thead th {\n",
       "        text-align: right;\n",
       "    }\n",
       "</style>\n",
       "<table border=\"1\" class=\"dataframe\">\n",
       "  <thead>\n",
       "    <tr style=\"text-align: right;\">\n",
       "      <th></th>\n",
       "      <th>Unnamed: 0</th>\n",
       "      <th>inst</th>\n",
       "      <th>time</th>\n",
       "      <th>status</th>\n",
       "      <th>age</th>\n",
       "      <th>sex</th>\n",
       "      <th>ph.ecog</th>\n",
       "      <th>ph.karno</th>\n",
       "      <th>pat.karno</th>\n",
       "      <th>meal.cal</th>\n",
       "      <th>wt.loss</th>\n",
       "    </tr>\n",
       "  </thead>\n",
       "  <tbody>\n",
       "    <tr>\n",
       "      <th>count</th>\n",
       "      <td>228.00000</td>\n",
       "      <td>227.000000</td>\n",
       "      <td>228.000000</td>\n",
       "      <td>228.000000</td>\n",
       "      <td>228.000000</td>\n",
       "      <td>228.000000</td>\n",
       "      <td>227.000000</td>\n",
       "      <td>227.000000</td>\n",
       "      <td>225.000000</td>\n",
       "      <td>181.000000</td>\n",
       "      <td>214.000000</td>\n",
       "    </tr>\n",
       "    <tr>\n",
       "      <th>mean</th>\n",
       "      <td>114.50000</td>\n",
       "      <td>11.088106</td>\n",
       "      <td>305.232456</td>\n",
       "      <td>1.723684</td>\n",
       "      <td>62.447368</td>\n",
       "      <td>1.394737</td>\n",
       "      <td>0.951542</td>\n",
       "      <td>81.938326</td>\n",
       "      <td>79.955556</td>\n",
       "      <td>928.779006</td>\n",
       "      <td>9.831776</td>\n",
       "    </tr>\n",
       "    <tr>\n",
       "      <th>std</th>\n",
       "      <td>65.96211</td>\n",
       "      <td>8.303491</td>\n",
       "      <td>210.645543</td>\n",
       "      <td>0.448159</td>\n",
       "      <td>9.073457</td>\n",
       "      <td>0.489870</td>\n",
       "      <td>0.717872</td>\n",
       "      <td>12.327955</td>\n",
       "      <td>14.623177</td>\n",
       "      <td>402.174707</td>\n",
       "      <td>13.139902</td>\n",
       "    </tr>\n",
       "    <tr>\n",
       "      <th>min</th>\n",
       "      <td>1.00000</td>\n",
       "      <td>1.000000</td>\n",
       "      <td>5.000000</td>\n",
       "      <td>1.000000</td>\n",
       "      <td>39.000000</td>\n",
       "      <td>1.000000</td>\n",
       "      <td>0.000000</td>\n",
       "      <td>50.000000</td>\n",
       "      <td>30.000000</td>\n",
       "      <td>96.000000</td>\n",
       "      <td>-24.000000</td>\n",
       "    </tr>\n",
       "    <tr>\n",
       "      <th>25%</th>\n",
       "      <td>57.75000</td>\n",
       "      <td>3.000000</td>\n",
       "      <td>166.750000</td>\n",
       "      <td>1.000000</td>\n",
       "      <td>56.000000</td>\n",
       "      <td>1.000000</td>\n",
       "      <td>0.000000</td>\n",
       "      <td>75.000000</td>\n",
       "      <td>70.000000</td>\n",
       "      <td>635.000000</td>\n",
       "      <td>0.000000</td>\n",
       "    </tr>\n",
       "    <tr>\n",
       "      <th>50%</th>\n",
       "      <td>114.50000</td>\n",
       "      <td>11.000000</td>\n",
       "      <td>255.500000</td>\n",
       "      <td>2.000000</td>\n",
       "      <td>63.000000</td>\n",
       "      <td>1.000000</td>\n",
       "      <td>1.000000</td>\n",
       "      <td>80.000000</td>\n",
       "      <td>80.000000</td>\n",
       "      <td>975.000000</td>\n",
       "      <td>7.000000</td>\n",
       "    </tr>\n",
       "    <tr>\n",
       "      <th>75%</th>\n",
       "      <td>171.25000</td>\n",
       "      <td>16.000000</td>\n",
       "      <td>396.500000</td>\n",
       "      <td>2.000000</td>\n",
       "      <td>69.000000</td>\n",
       "      <td>2.000000</td>\n",
       "      <td>1.000000</td>\n",
       "      <td>90.000000</td>\n",
       "      <td>90.000000</td>\n",
       "      <td>1150.000000</td>\n",
       "      <td>15.750000</td>\n",
       "    </tr>\n",
       "    <tr>\n",
       "      <th>max</th>\n",
       "      <td>228.00000</td>\n",
       "      <td>33.000000</td>\n",
       "      <td>1022.000000</td>\n",
       "      <td>2.000000</td>\n",
       "      <td>82.000000</td>\n",
       "      <td>2.000000</td>\n",
       "      <td>3.000000</td>\n",
       "      <td>100.000000</td>\n",
       "      <td>100.000000</td>\n",
       "      <td>2600.000000</td>\n",
       "      <td>68.000000</td>\n",
       "    </tr>\n",
       "  </tbody>\n",
       "</table>\n",
       "</div>"
      ],
      "text/plain": [
       "       Unnamed: 0        inst         time  ...   pat.karno     meal.cal     wt.loss\n",
       "count   228.00000  227.000000   228.000000  ...  225.000000   181.000000  214.000000\n",
       "mean    114.50000   11.088106   305.232456  ...   79.955556   928.779006    9.831776\n",
       "std      65.96211    8.303491   210.645543  ...   14.623177   402.174707   13.139902\n",
       "min       1.00000    1.000000     5.000000  ...   30.000000    96.000000  -24.000000\n",
       "25%      57.75000    3.000000   166.750000  ...   70.000000   635.000000    0.000000\n",
       "50%     114.50000   11.000000   255.500000  ...   80.000000   975.000000    7.000000\n",
       "75%     171.25000   16.000000   396.500000  ...   90.000000  1150.000000   15.750000\n",
       "max     228.00000   33.000000  1022.000000  ...  100.000000  2600.000000   68.000000\n",
       "\n",
       "[8 rows x 11 columns]"
      ]
     },
     "execution_count": 6,
     "metadata": {
      "tags": []
     },
     "output_type": "execute_result"
    }
   ],
   "source": [
    "data.describe()"
   ]
  },
  {
   "cell_type": "markdown",
   "metadata": {
    "id": "gDZZdRFs_3x0"
   },
   "source": [
    "### 6. Find out sex distribution using histogram:\n",
    "\n",
    "This gives us a general idea about how our data is distributed. In the following graph, you can see that around 139 values have a status of 1, and around 90 values have a status of 2. It means that in our dataset, there are 139 males and around 90 females."
   ]
  },
  {
   "cell_type": "code",
   "execution_count": 7,
   "metadata": {
    "colab": {
     "base_uri": "https://localhost:8080/",
     "height": 282
    },
    "id": "DyePveK7_6ai",
    "outputId": "919192be-691c-41f9-881c-77a8b36d0485"
   },
   "outputs": [
    {
     "data": {
      "text/plain": [
       "<matplotlib.axes._subplots.AxesSubplot at 0x7f2e9ab787f0>"
      ]
     },
     "execution_count": 7,
     "metadata": {
      "tags": []
     },
     "output_type": "execute_result"
    },
    {
     "data": {
      "image/png": "[encoded data removed]",
      "text/plain": [
       "<Figure size 432x288 with 1 Axes>"
      ]
     },
     "metadata": {
      "needs_background": "light",
      "tags": []
     },
     "output_type": "display_data"
    }
   ],
   "source": [
    "data[\"sex\"].hist()"
   ]
  },
  {
   "cell_type": "markdown",
   "metadata": {
    "id": "-Yz39O2EIvGw"
   },
   "source": [
    "7. Create an object for KaplanMeierFitter:"
   ]
  },
  {
   "cell_type": "code",
   "execution_count": 8,
   "metadata": {
    "id": "v0jqHEEmI4AF"
   },
   "outputs": [],
   "source": [
    "# Create the object for our method :\n",
    "kmf = KaplanMeierFitter() "
   ]
  },
  {
   "cell_type": "markdown",
   "metadata": {
    "id": "Gf3MciheJsiA"
   },
   "source": [
    "### 8. Organize the data:\n",
    "\n",
    "Now we need to organize our data. We’ll add a new column in our dataset that is called “dead”. It stores the data about whether a person that is a part of our experiment is dead or alive (based on the status value). If our status value is 1 then that person is alive, and if our status value is 2 then the person is dead. It’s a very crucial step for what we need to do in the next step. As we are going to store our data in columns called censored and observed. Where observed data stores the value of dead persons in a specific timeline and censored data stores the value of alive persons or persons that we’re not going to investigate at that timeline."
   ]
  },
  {
   "cell_type": "code",
   "execution_count": 9,
   "metadata": {
    "colab": {
     "base_uri": "https://localhost:8080/",
     "height": 153
    },
    "id": "_TZcDp9RI_SR",
    "outputId": "e4650257-ab9a-400d-de6f-a60c65581d0e"
   },
   "outputs": [
    {
     "name": "stdout",
     "output_type": "stream",
     "text": [
      "   Unnamed: 0  inst  time  status  ...  pat.karno  meal.cal  wt.loss  dead\n",
      "0           1   3.0   306       2  ...      100.0    1175.0      NaN   1.0\n",
      "1           2   3.0   455       2  ...       90.0    1225.0     15.0   1.0\n",
      "2           3   3.0  1010       1  ...       90.0       NaN     15.0   0.0\n",
      "3           4   5.0   210       2  ...       60.0    1150.0     11.0   1.0\n",
      "4           5   1.0   883       2  ...       90.0       NaN      0.0   1.0\n",
      "\n",
      "[5 rows x 12 columns]\n"
     ]
    }
   ],
   "source": [
    "# Organize our data :\n",
    "# If status = 1 , then dead = 0\n",
    "# If status = 2 , then dead = 1\n",
    "data.loc[data.status == 1, 'dead'] = 0\n",
    "data.loc[data.status == 2, 'dead'] = 1\n",
    "print (data.head())"
   ]
  },
  {
   "cell_type": "markdown",
   "metadata": {
    "id": "FWepiBOFJGHn"
   },
   "source": [
    "### 9. Fitting our data into object:\n",
    "\n",
    "Here our goal is to find the number of days a patient survived before they died. So our event of interest will be “death”, which is stored in the “dead” column. The first argument it takes is the timeline for our experiment."
   ]
  },
  {
   "cell_type": "code",
   "execution_count": 10,
   "metadata": {
    "colab": {
     "base_uri": "https://localhost:8080/",
     "height": 54
    },
    "id": "Z8qi88n6JIuC",
    "outputId": "771afb48-15cf-465c-cf71-c9bb05b3a411"
   },
   "outputs": [
    {
     "data": {
      "text/plain": [
       "<lifelines.KaplanMeierFitter:\"KM_estimate\", fitted with 228 total observations, 63 right-censored observations>"
      ]
     },
     "execution_count": 10,
     "metadata": {
      "tags": []
     },
     "output_type": "execute_result"
    }
   ],
   "source": [
    "# Fit the data into model.\n",
    "# The 1st arg accepts an array or pd.Series of individual survival times\n",
    "# The 2nd arg accepts an array or pd.Series that indicates if the event \n",
    "# interest (or death) occured.\n",
    "kmf.fit(durations =  data[\"time\"], event_observed = data[\"dead\"])"
   ]
  },
  {
   "cell_type": "markdown",
   "metadata": {
    "id": "zWPjNEQaJNDb"
   },
   "source": [
    "### 10. Event table:\n",
    "\n",
    "One most important method of kmf object is “event_table”. It gives us various information for our data fitted. Let’s have a look at it column-by-column.\n",
    "\n",
    "1. Event_at: It stores the value of the timeline for our dataset, i.e., when was the patient observed in our experiment or when was the experiment conducted. It can be the number of minutes, days, months, years etc. In our case, it’s going to be the number of days. It basically stores the value of survival days for a patient.\n",
    "\n",
    "2. At_risk: It stores the number of current patients. At the start, it will be the total number of patients we are going to observe in our experiment. If at a certain time, new patients are added, then we have to increase it’s value accordingly. Basically, we can say that:\n",
    "\n",
    "at_risk = current patients at_risk + entrance — removed\n",
    "\n",
    "3. Entrance: It stores the value of new patients in a given timeline. It’ possible that while we have other patients, some new patients are also diagnosed with cancer. That’s why we add it here.\n",
    "\n",
    "4. Censored: Our ultimate goal is to find the survival probability for a patient. If at a specific timeline person under experiment is alive, then that person goes into the censored category. If we don’t have information about when a patient died, then we add it to the censored data. Other possibilities are if a patient chooses to shift to another town where the experiment can’t be conducted, then we add that patient into the censored category.\n",
    "\n",
    "5. Observed: The number of patients that died during the experiment.\n",
    "\n",
    "6. Removed: It stores the values of patients that are no longer part of our experiment. If a person died or is censored, then they fall into this category. In short,\n",
    "\n",
    "Removed = Observed + Censored\n"
   ]
  },
  {
   "cell_type": "code",
   "execution_count": 11,
   "metadata": {
    "colab": {
     "base_uri": "https://localhost:8080/",
     "height": 272
    },
    "id": "gfvuV-lEJRc0",
    "outputId": "20e7523c-a1a0-4fd9-de75-28abfdd2a806"
   },
   "outputs": [
    {
     "name": "stdout",
     "output_type": "stream",
     "text": [
      "          removed  observed  censored  entrance  at_risk\n",
      "event_at                                                \n",
      "0.0             0         0         0       228      228\n",
      "5.0             1         1         0         0      228\n",
      "11.0            3         3         0         0      227\n",
      "12.0            1         1         0         0      224\n",
      "13.0            2         2         0         0      223\n",
      "...           ...       ...       ...       ...      ...\n",
      "840.0           1         0         1         0        5\n",
      "883.0           1         1         0         0        4\n",
      "965.0           1         0         1         0        3\n",
      "1010.0          1         0         1         0        2\n",
      "1022.0          1         0         1         0        1\n",
      "\n",
      "[187 rows x 5 columns]\n"
     ]
    }
   ],
   "source": [
    "# Print the event table\n",
    "# Removed = Observed + Censored\n",
    "# Censored = Person that didn't die.(They are of no use to us!)\n",
    "# Observed = Persons that died.\n",
    "print(kmf.event_table)"
   ]
  },
  {
   "cell_type": "markdown",
   "metadata": {
    "id": "PDXfnGcoJXnL"
   },
   "source": [
    "### 11. Calculating the probability of survival for individual timelines:\n",
    "\n",
    "Here we are going to use the following formula to count it by hand:"
   ]
  },
  {
   "cell_type": "code",
   "execution_count": 12,
   "metadata": {
    "colab": {
     "base_uri": "https://localhost:8080/",
     "height": 34
    },
    "id": "zTUeIBYOJYyy",
    "outputId": "a17565eb-a102-4735-b871-361aadb81f50"
   },
   "outputs": [
    {
     "data": {
      "text/plain": [
       "1.0"
      ]
     },
     "execution_count": 12,
     "metadata": {
      "tags": []
     },
     "output_type": "execute_result"
    }
   ],
   "source": [
    "# Calculating survival probability by hand :\n",
    "event_at_0 = kmf.event_table.iloc[0,:]\n",
    "# Calculate the survival probability for t=0\n",
    "surv_for_0 = (event_at_0.at_risk - event_at_0.observed)/event_at_0.at_risk\n",
    "surv_for_0"
   ]
  },
  {
   "cell_type": "markdown",
   "metadata": {
    "id": "QaOsGP_EJef0"
   },
   "source": [
    "###  12. Event_At_5:"
   ]
  },
  {
   "cell_type": "code",
   "execution_count": 13,
   "metadata": {
    "colab": {
     "base_uri": "https://localhost:8080/",
     "height": 34
    },
    "id": "4ynubL4cJfRw",
    "outputId": "c23a0b9b-8a70-4c17-9b8b-6b8325abb449"
   },
   "outputs": [
    {
     "data": {
      "text/plain": [
       "0.9956140350877193"
      ]
     },
     "execution_count": 13,
     "metadata": {
      "tags": []
     },
     "output_type": "execute_result"
    }
   ],
   "source": [
    "# Calculating survival probability by hand :\n",
    "event_at_5 = kmf.event_table.iloc[1,:]\n",
    "# Calculate the survival probability for t=0\n",
    "surv_for_5 = (event_at_5.at_risk - event_at_5.observed)/event_at_5.at_risk\n",
    "surv_for_5"
   ]
  },
  {
   "cell_type": "markdown",
   "metadata": {
    "id": "4aNiJvK8Jiwl"
   },
   "source": [
    "### 13. Event_At_11:"
   ]
  },
  {
   "cell_type": "code",
   "execution_count": 14,
   "metadata": {
    "colab": {
     "base_uri": "https://localhost:8080/",
     "height": 34
    },
    "id": "3Ri2ugWOJkzp",
    "outputId": "812a015e-f497-43a4-d691-4664ff3987b6"
   },
   "outputs": [
    {
     "data": {
      "text/plain": [
       "0.986784140969163"
      ]
     },
     "execution_count": 14,
     "metadata": {
      "tags": []
     },
     "output_type": "execute_result"
    }
   ],
   "source": [
    "# Calculating survival probability by hand :\n",
    "event_at_11 = kmf.event_table.iloc[2,:]\n",
    "# Calculate the survival probability for t=0\n",
    "surv_for_11 = (event_at_11.at_risk - event_at_11.observed)/event_at_11.at_risk\n",
    "surv_for_11"
   ]
  },
  {
   "cell_type": "markdown",
   "metadata": {
    "id": "9Q_-hMXPJoSg"
   },
   "source": [
    "Now what we found here is the probability for a certain period of time only. What we want is the probability for the entire time period for a patient, i.e., the probability of the patient surviving all the rounds of experiment.\n",
    "\n",
    "This seems confusing, right?\n",
    "\n",
    "Let’s take a very simple example to understand the concept of conditional probability.\n",
    "\n",
    "Let’ say we have a total of 15 balls in a non-transparent box. Out of the 15 balls, we have 7 black balls, 5 red balls, and 3 green balls. Here’s a pictorial view for that.\n",
    "\n",
    "Now let’s find some probabilities!\n",
    "\n",
    "Probability for choosing a red ball :\n",
    "\n",
    "Notice that we have a total of 5 red balls out of 15 balls.\n",
    "\n",
    "\n",
    "\n",
    "probability of choosing 2nd red ball:\n",
    "\n",
    "Since we’ve removed a ball that was red, the total number of red balls we have is 4, and the total number of balls we have is 14.\n",
    "\n",
    "\n",
    "Now what my point here is: What if we want to find the probability of both the balls selected to be red. This is our case here. Like we want to find the probability that we know that a patient has survived the 1st time interval, and we want to find the probability of them surviving the 2nd time interval given that they have survived the 1st time interval. My point here is we just don’t want to find the probability of the 2nd time interval only. We want the total probability of them surviving the time period.\n",
    "\n",
    "In the case of the balls, we want to find out what’s the probability that both of the selected balls are red?\n",
    "\n",
    "\n",
    "\n",
    "*Probability of both red balls*\n",
    "\n",
    "Here our goal is to find the probability for the entire timeline of that person. Like they survived the 1st, 2nd, and 3rd timeslines, then our survival probability will be:\n",
    "\n",
    "\n",
    "\n",
    "Getting back to our main example:\n",
    "\n",
    "###  14. Surv_After_probability:\n",
    "\n",
    "We want to find the probability that a patient has survived through all the timeline till now. Now we need to find the actual survival probability for a patient."
   ]
  },
  {
   "cell_type": "code",
   "execution_count": 15,
   "metadata": {
    "colab": {
     "base_uri": "https://localhost:8080/",
     "height": 51
    },
    "id": "l1UCp4P2JuZi",
    "outputId": "7414f5ad-cef8-4433-96fb-c04a2d853bbf"
   },
   "outputs": [
    {
     "name": "stdout",
     "output_type": "stream",
     "text": [
      "0.9956140350877193\n",
      "0.9824561403508771\n"
     ]
    }
   ],
   "source": [
    "# Calculating actual probabilities :\n",
    "surv_after_5 = surv_for_0 * surv_for_5\n",
    "surv_after_11 = surv_for_0 * surv_for_5 * surv_for_11\n",
    "print(surv_after_5)\n",
    "print(surv_after_11)"
   ]
  },
  {
   "cell_type": "markdown",
   "metadata": {
    "id": "It0n3EXRJ2eh"
   },
   "source": [
    "###  15. Predict function:\n",
    "\n",
    "Now the kmf object’s predict function does all of this work for us. But it’s always good to know the logic behind it."
   ]
  },
  {
   "cell_type": "code",
   "execution_count": 16,
   "metadata": {
    "colab": {
     "base_uri": "https://localhost:8080/",
     "height": 34
    },
    "id": "foVlRTEgJ3sb",
    "outputId": "2850cb57-d202-462a-a3b0-1d68bdcbe50f"
   },
   "outputs": [
    {
     "name": "stdout",
     "output_type": "stream",
     "text": [
      "0.9824561403508766\n"
     ]
    }
   ],
   "source": [
    "# Our kmf object has done all these calculations for us :\n",
    "print(kmf.predict(11))"
   ]
  },
  {
   "cell_type": "markdown",
   "metadata": {
    "id": "0GtaSIDOJ7PK"
   },
   "source": [
    "### 16. Finding survival probability for an array of the timeline:\n",
    "\n",
    "We can find the probability for an array of time."
   ]
  },
  {
   "cell_type": "code",
   "execution_count": 17,
   "metadata": {
    "colab": {
     "base_uri": "https://localhost:8080/",
     "height": 102
    },
    "id": "KbEs9eEEJ-jK",
    "outputId": "a38a40a7-429c-40be-b203-9b089aaaf36b"
   },
   "outputs": [
    {
     "name": "stdout",
     "output_type": "stream",
     "text": [
      "0     1.000000\n",
      "5     0.995614\n",
      "11    0.982456\n",
      "12    0.978070\n",
      "Name: KM_estimate, dtype: float64\n"
     ]
    }
   ],
   "source": [
    "# For an array :\n",
    "print(kmf.predict([0, 5, 11, 12]))"
   ]
  },
  {
   "cell_type": "markdown",
   "metadata": {
    "id": "VXwS1h6SKGaJ"
   },
   "source": [
    "### 17. Get survival probability for the whole timeline:\n",
    "\n",
    "The kmf object’s survival_function_ gives us the complete data for our timeline."
   ]
  },
  {
   "cell_type": "code",
   "execution_count": 18,
   "metadata": {
    "colab": {
     "base_uri": "https://localhost:8080/",
     "height": 272
    },
    "id": "muhOgTacKHla",
    "outputId": "d82b0257-0846-4e67-baca-106bf0861acb"
   },
   "outputs": [
    {
     "name": "stdout",
     "output_type": "stream",
     "text": [
      "          KM_estimate\n",
      "timeline             \n",
      "0.0          1.000000\n",
      "5.0          0.995614\n",
      "11.0         0.982456\n",
      "12.0         0.978070\n",
      "13.0         0.969298\n",
      "...               ...\n",
      "840.0        0.067127\n",
      "883.0        0.050346\n",
      "965.0        0.050346\n",
      "1010.0       0.050346\n",
      "1022.0       0.050346\n",
      "\n",
      "[187 rows x 1 columns]\n"
     ]
    }
   ],
   "source": [
    "# To get full list :\n",
    "print(kmf.survival_function_)"
   ]
  },
  {
   "cell_type": "markdown",
   "metadata": {
    "id": "4PL6o6xaKMks"
   },
   "source": [
    "Explanation:\n",
    "\n",
    "The survival probability for a patient at timeline 0 is 1. If you think it over, then you can understand that the probability that a person dies on the 1st day of diagnosis is nearly equal to 0. So we can say that the survival probability is as high as possible. As the timeline increases, the probability of survival decreases for a patient.\n",
    "\n",
    "### 18. Median:\n",
    "\n",
    "It provides the number of days where on average, 50% of patients survived."
   ]
  },
  {
   "cell_type": "code",
   "execution_count": 19,
   "metadata": {
    "colab": {
     "base_uri": "https://localhost:8080/",
     "height": 34
    },
    "id": "0cHSa_t_KNbs",
    "outputId": "cb41140f-1327-4356-8677-c5a82142be8a"
   },
   "outputs": [
    {
     "name": "stdout",
     "output_type": "stream",
     "text": [
      "310.0\n"
     ]
    }
   ],
   "source": [
    "# It provides the number of days where on average 50% of patients died.\n",
    "print(kmf.median_survival_time_)"
   ]
  },
  {
   "cell_type": "markdown",
   "metadata": {
    "id": "_2AlXVQwKTzc"
   },
   "source": [
    "From the above code, we can say that, on average, a person lives 310 days after the day of diagnosis.\n",
    "\n",
    "### 19. Plot the graph:\n",
    "\n",
    "Here we can plot the graph for survival probability."
   ]
  },
  {
   "cell_type": "code",
   "execution_count": 20,
   "metadata": {
    "colab": {
     "base_uri": "https://localhost:8080/",
     "height": 295
    },
    "id": "lPBq5HZpKUmP",
    "outputId": "11c8f752-6137-43dc-dc9e-0a721bae6c25"
   },
   "outputs": [
    {
     "data": {
      "image/png": "[encoded data removed]",
      "text/plain": [
       "<Figure size 432x288 with 1 Axes>"
      ]
     },
     "metadata": {
      "needs_background": "light",
      "tags": []
     },
     "output_type": "display_data"
    }
   ],
   "source": [
    "# Plot the graph:\n",
    "kmf.plot()\n",
    "plt.title(\"The Kaplan-Meier Estimate\")\n",
    "plt.ylabel(\"Probability of patient still alive\")\n",
    "plt.show()"
   ]
  },
  {
   "cell_type": "markdown",
   "metadata": {
    "id": "GT4n_L_1KbYc"
   },
   "source": [
    "### 20. Confidence interval:\n",
    "\n",
    "The confidence interval gives us the range of values we are fairly sure our true values lie in. Here you can see in the above graph the light blue color shade represents the confidence interval of survival. From that, we can say that the probability at that timeline certainly lies between that confidence interval only."
   ]
  },
  {
   "cell_type": "code",
   "execution_count": 21,
   "metadata": {
    "colab": {
     "base_uri": "https://localhost:8080/",
     "height": 255
    },
    "id": "Ob-50BRWKdnj",
    "outputId": "62a596a7-419d-43e0-bf2e-d333c8cd5c40"
   },
   "outputs": [
    {
     "name": "stdout",
     "output_type": "stream",
     "text": [
      "        KM_estimate_lower_0.95  KM_estimate_upper_0.95\n",
      "0.0                   1.000000                1.000000\n",
      "5.0                   0.969277                0.999381\n",
      "11.0                  0.953935                0.993379\n",
      "12.0                  0.948120                0.990813\n",
      "13.0                  0.936682                0.985244\n",
      "...                        ...                     ...\n",
      "840.0                 0.030728                0.123060\n",
      "883.0                 0.017866                0.108662\n",
      "965.0                 0.017866                0.108662\n",
      "1010.0                0.017866                0.108662\n",
      "1022.0                0.017866                0.108662\n",
      "\n",
      "[187 rows x 2 columns]\n"
     ]
    }
   ],
   "source": [
    "print(kmf.confidence_interval_)"
   ]
  },
  {
   "cell_type": "markdown",
   "metadata": {
    "id": "VVxAudFHKjqN"
   },
   "source": [
    "Now all the information we have is for the survival of a person. Now we are going to see what is the probability for a person to die at a certain timeline. Here notice that a higher survival probability is good for a person, but higher cumulative density (probability of a person to die) is not so good!\n",
    "\n",
    "### 21. Probability of a person to die:\n",
    "\n",
    "\n",
    "\n",
    "Here notice that the denominator value is the subjects at risk just before time (t). In a simple way, we can say that the person at_risk of the previous row.\n",
    "\n",
    "The formula for cumulative density:\n",
    "\n",
    "\n",
    "\n",
    "*Cumulative Density*\n",
    "\n",
    "Calculate the probability by hand:\n",
    "\n",
    "t = 0\n",
    "t = 5\n",
    "t = 11\n",
    "\n",
    "Find the cumulative density:\n"
   ]
  },
  {
   "cell_type": "code",
   "execution_count": 22,
   "metadata": {
    "colab": {
     "base_uri": "https://localhost:8080/",
     "height": 272
    },
    "id": "LwwW6vpvKlOq",
    "outputId": "24e7ee98-96bb-4fdd-c6c2-a6ae87e42530"
   },
   "outputs": [
    {
     "name": "stdout",
     "output_type": "stream",
     "text": [
      "          KM_estimate\n",
      "timeline             \n",
      "0.0          0.000000\n",
      "5.0          0.004386\n",
      "11.0         0.017544\n",
      "12.0         0.021930\n",
      "13.0         0.030702\n",
      "...               ...\n",
      "840.0        0.932873\n",
      "883.0        0.949654\n",
      "965.0        0.949654\n",
      "1010.0       0.949654\n",
      "1022.0       0.949654\n",
      "\n",
      "[187 rows x 1 columns]\n"
     ]
    }
   ],
   "source": [
    "# Probabaility of die:\n",
    "# p(1022) = p(0) + ... + p(1022)\n",
    "print(kmf.cumulative_density_)"
   ]
  },
  {
   "cell_type": "markdown",
   "metadata": {
    "id": "keG6wlkIKvxD"
   },
   "source": [
    "### 22. Plot the graph:"
   ]
  },
  {
   "cell_type": "code",
   "execution_count": 23,
   "metadata": {
    "colab": {
     "base_uri": "https://localhost:8080/",
     "height": 296
    },
    "id": "aZa1IM1yKwlq",
    "outputId": "8b531235-a7d1-4a86-f36f-8dea0ff174c9"
   },
   "outputs": [
    {
     "data": {
      "text/plain": [
       "<matplotlib.axes._subplots.AxesSubplot at 0x7f2e9a659048>"
      ]
     },
     "execution_count": 23,
     "metadata": {
      "tags": []
     },
     "output_type": "execute_result"
    },
    {
     "data": {
      "image/png": "[encoded data removed]",
      "text/plain": [
       "<Figure size 432x288 with 1 Axes>"
      ]
     },
     "metadata": {
      "needs_background": "light",
      "tags": []
     },
     "output_type": "display_data"
    }
   ],
   "source": [
    "# Plot the graph:\n",
    "kmf.plot_cumulative_density()"
   ]
  },
  {
   "cell_type": "markdown",
   "metadata": {
    "id": "pR3DsE5wK0_s"
   },
   "source": [
    "Notice that, as the number of survival days increases, the probability of a person dying increases.\n",
    "\n",
    "## Example 2: Estimating hazard rates using Nelson-Aalen\n",
    "\n",
    "### Hazard function:\n",
    "\n",
    "The survival functions are a great way to summarize and visualize the survival dataset. However, it is not the only way. If we are curious about the hazard function h(t) of a population, we, unfortunately, can’t transform the Kaplan Meier estimate. For that, we use the Nelson-Aalen hazard function:\n",
    "\n",
    "\n",
    "\n",
    "*Hazard Function*\n",
    "\n",
    "where,\n",
    "\n",
    "di = number of deaths at time ti\n",
    "\n",
    "ni = number of patients at the start.\n",
    "\n",
    "### 23. Import library:\n"
   ]
  },
  {
   "cell_type": "code",
   "execution_count": 24,
   "metadata": {
    "id": "NFQiKRGyK4Wq"
   },
   "outputs": [],
   "source": [
    "# Hazard FUnction:\n",
    "from lifelines import NelsonAalenFitter"
   ]
  },
  {
   "cell_type": "markdown",
   "metadata": {
    "id": "kkVefzn_K7j4"
   },
   "source": [
    "### 24. Fitting the data:"
   ]
  },
  {
   "cell_type": "code",
   "execution_count": 25,
   "metadata": {
    "colab": {
     "base_uri": "https://localhost:8080/",
     "height": 34
    },
    "id": "JGzEOqpkK-zR",
    "outputId": "592290fd-8c32-4ce2-8f2e-ba0072d209c9"
   },
   "outputs": [
    {
     "data": {
      "text/plain": [
       "<lifelines.NelsonAalenFitter:\"NA_estimate\", fitted with 228 total observations, 63 right-censored observations>"
      ]
     },
     "execution_count": 25,
     "metadata": {
      "tags": []
     },
     "output_type": "execute_result"
    }
   ],
   "source": [
    "naf = NelsonAalenFitter()\n",
    "naf.fit(data[\"time\"],event_observed = data[\"dead\"])"
   ]
  },
  {
   "cell_type": "markdown",
   "metadata": {
    "id": "GvyaY9skLEhe"
   },
   "source": [
    "### 25. Cumulative hazard:\n",
    "\n",
    "Keep in mind we take at_risk of the current row:"
   ]
  },
  {
   "cell_type": "code",
   "execution_count": 26,
   "metadata": {
    "colab": {
     "base_uri": "https://localhost:8080/",
     "height": 272
    },
    "id": "tKKg8r5yLFDX",
    "outputId": "546fa097-0254-4855-982f-2f343fade59e"
   },
   "outputs": [
    {
     "name": "stdout",
     "output_type": "stream",
     "text": [
      "          NA_estimate\n",
      "timeline             \n",
      "0.0          0.000000\n",
      "5.0          0.004386\n",
      "11.0         0.017660\n",
      "12.0         0.022125\n",
      "13.0         0.031114\n",
      "...               ...\n",
      "840.0        2.641565\n",
      "883.0        2.891565\n",
      "965.0        2.891565\n",
      "1010.0       2.891565\n",
      "1022.0       2.891565\n",
      "\n",
      "[187 rows x 1 columns]\n"
     ]
    }
   ],
   "source": [
    "print(naf.cumulative_hazard_)"
   ]
  },
  {
   "cell_type": "markdown",
   "metadata": {
    "id": "eXCHbvSaLMIc"
   },
   "source": [
    "### 26. Plot the data:"
   ]
  },
  {
   "cell_type": "code",
   "execution_count": 27,
   "metadata": {
    "colab": {
     "base_uri": "https://localhost:8080/",
     "height": 299
    },
    "id": "mwiXDls0LMoZ",
    "outputId": "0090c5cd-7842-4080-90e8-5182033d6878"
   },
   "outputs": [
    {
     "data": {
      "text/plain": [
       "<matplotlib.axes._subplots.AxesSubplot at 0x7f2e99298668>"
      ]
     },
     "execution_count": 27,
     "metadata": {
      "tags": []
     },
     "output_type": "execute_result"
    },
    {
     "data": {
      "image/png": "[encoded data removed]",
      "text/plain": [
       "<Figure size 432x288 with 1 Axes>"
      ]
     },
     "metadata": {
      "needs_background": "light",
      "tags": []
     },
     "output_type": "display_data"
    }
   ],
   "source": [
    "# Plot the cumulative_hazard\n",
    "# naf.plot_cumulative_hazard()\n",
    "naf.plot()"
   ]
  },
  {
   "cell_type": "markdown",
   "metadata": {
    "id": "ddIKAXUSLQ5r"
   },
   "source": [
    "The cumulative hazard has less obvious understanding than the survival functions, but the hazard functions are the basis of more advanced techniques in survival analysis.\n",
    "\n",
    "### 27. Predict a value:"
   ]
  },
  {
   "cell_type": "code",
   "execution_count": 28,
   "metadata": {
    "colab": {
     "base_uri": "https://localhost:8080/",
     "height": 34
    },
    "id": "GlEcmzNHLRsO",
    "outputId": "203060e1-1902-4210-ec61-17dd8dec1855"
   },
   "outputs": [
    {
     "name": "stdout",
     "output_type": "stream",
     "text": [
      "2.8915648373471052\n"
     ]
    }
   ],
   "source": [
    "# We can predict the value of a certain point :\n",
    "print (naf.predict(1022))"
   ]
  },
  {
   "cell_type": "markdown",
   "metadata": {
    "id": "B6wImsosLX77"
   },
   "source": [
    "Putting it all together:\n",
    "\n",
    "`Survival_Analysis_1.py` hosted with ❤ by GitHub\n",
    "\n",
    "https://gist.githubusercontent.com/shuklapratik/3e6733f8e937f12b6ab37ac2237c3f30/raw/32a39f294e9d1d1b15b02b5120270dbaece208c7/Survival_Analysis_1.py\n",
    "\n",
    "You can download the jupyter notebooks from here:\n",
    "\n",
    "https://drive.google.com/drive/folders/1Vj9UNMfcsqP3S7D3-oQRjEuc2Gnw43dF\n",
    "\n",
    "In the next article, we’ll discuss the log-rank test and cox regression with an example.\n",
    "\n",
    "## Original:\n",
    "\n",
    "https://medium.com/@shuklapratik22/b0e6354d599d\n",
    "\n",
    "Reposted with permission.\n",
    "\n",
    "## Bio: \n",
    "\n",
    "Pratik Shukla is an aspiring machine learning engineer who loves to put complex theories in simple ways. Pratik pursued his undergraduate in computer science and is going for a master's program in computer science at University of Southern California.  “Shoot for the moon. Even if you miss it you will land among the stars. -- Les Brown”\n",
    "\n",
    "https://medium.com/@shuklapratik22\n",
    "\n",
    "## Related:\n",
    "\n",
    "**A Complete Guide To Survival Analysis In Python, part 1**\n",
    "\n",
    "https://www.kdnuggets.com/2020/07/complete-guide-survival-analysis-python-part1.html\n",
    "\n",
    "**Survival Analysis for Business Analytics**\n",
    "\n",
    "https://www.kdnuggets.com/2017/11/survival-analysis-business-analytics.html\n",
    "\n",
    "**The Challenges of Building a Predictive Churn Model**\n",
    "\n",
    "https://www.kdnuggets.com/2017/03/datascience-building-predictive-churn-model.html\n"
   ]
  }
 ],
 "metadata": {
  "colab": {
   "collapsed_sections": [],
   "name": "guide-survival-analysis-python-part-2.ipynb",
   "provenance": []
  },
  "kernelspec": {
   "display_name": "Python 3",
   "language": "python",
   "name": "python3"
  },
  "language_info": {
   "codemirror_mode": {
    "name": "ipython",
    "version": 3
   },
   "file_extension": ".py",
   "mimetype": "text/x-python",
   "name": "python",
   "nbconvert_exporter": "python",
   "pygments_lexer": "ipython3",
   "version": "3.8.5"
  }
 },
 "nbformat": 4,
 "nbformat_minor": 1
}
